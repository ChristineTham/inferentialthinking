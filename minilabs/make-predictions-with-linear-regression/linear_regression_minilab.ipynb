{
 "cells": [
  {
   "cell_type": "markdown",
   "metadata": {},
   "source": [
    "# Make Predictions with Linear Regression\n",
    "## Mini-Lab: Linear Regression"
   ]
  },
  {
   "cell_type": "markdown",
   "metadata": {},
   "source": [
    "Welcome to your next mini-lab! Go ahead an run the following cell to get started. You can do that by clicking on the cell and then clickcing `Run` on the top bar. You can also just press `Shift` + `Enter` to run the cell."
   ]
  },
  {
   "cell_type": "code",
   "execution_count": 1,
   "metadata": {},
   "outputs": [],
   "source": [
    "from datascience import *\n",
    "import numpy as np\n",
    "import otter\n",
    "\n",
    "import matplotlib\n",
    "%matplotlib inline\n",
    "import matplotlib.pyplot as plots\n",
    "plots.style.use('fivethirtyeight')\n",
    "\n",
    "grader = otter.Notebook(\"m10_l1_tests\")"
   ]
  },
  {
   "cell_type": "markdown",
   "metadata": {},
   "source": [
    "For this mini-lab and the next mini-lab, we'll be looking at something a bit lighter when compared to COVID-19 data. We'll instead be looking (and trying to establish correlation) between the the various scores of students who took the SAT in 2014. Run the next cell to import this data."
   ]
  },
  {
   "cell_type": "code",
   "execution_count": 2,
   "metadata": {},
   "outputs": [
    {
     "output_type": "display_data",
     "data": {
      "text/plain": "<IPython.core.display.HTML object>",
      "text/html": "<table border=\"1\" class=\"dataframe\">\n    <thead>\n        <tr>\n            <th>Critical Reading</th> <th>Math</th> <th>Writing</th> <th>Combined</th>\n        </tr>\n    </thead>\n    <tbody>\n        <tr>\n            <td>612             </td> <td>620 </td> <td>584    </td> <td>1816    </td>\n        </tr>\n        <tr>\n            <td>599             </td> <td>616 </td> <td>587    </td> <td>1802    </td>\n        </tr>\n        <tr>\n            <td>605             </td> <td>611 </td> <td>578    </td> <td>1794    </td>\n        </tr>\n        <tr>\n            <td>604             </td> <td>609 </td> <td>579    </td> <td>1792    </td>\n        </tr>\n        <tr>\n            <td>598             </td> <td>610 </td> <td>578    </td> <td>1786    </td>\n        </tr>\n    </tbody>\n</table>\n<p>... (46 rows omitted)</p>"
     },
     "metadata": {}
    }
   ],
   "source": [
    "sat = Table().read_table(\"../datasets/sat2014.csv\").select(\"Critical Reading\", \"Math\", \"Writing\", \"Combined\")\n",
    "sat.show(5)"
   ]
  },
  {
   "cell_type": "markdown",
   "metadata": {},
   "source": [
    "Next we'll be recreating the standard set of statistical functions that will be used for linear regression. First up is the `standard_units` and `correlation` functions. The `standard_units` function converts an array of numbers into...well, standard units! The `correlation` function utilizes the `standard units` function in order find the correlation coefficient between two different arrays - the `x_array` and the `y_array`. Implement these functions below!"
   ]
  },
  {
   "cell_type": "code",
   "execution_count": 3,
   "metadata": {},
   "outputs": [],
   "source": [
    "def standard_units(array):\n",
    "    return (array - np.mean(array))/np.std(array)\n",
    "\n",
    "\n",
    "def correlation(x_array, y_array):\n",
    "    return np.mean(standard_units(x_array)*standard_units(y_array))"
   ]
  },
  {
   "cell_type": "code",
   "execution_count": null,
   "metadata": {},
   "outputs": [],
   "source": [
    "grader.check(\"q1\")"
   ]
  },
  {
   "cell_type": "markdown",
   "metadata": {},
   "source": [
    "Next up is the `slope` and `intercept` functions which calculate the slope and intercept between two arrays. Again, they take the `x_array` and `y_array` as input and utilize the `correlation` function that you implemented above. Continue implementing these functions in the cell below."
   ]
  },
  {
   "cell_type": "code",
   "execution_count": 4,
   "metadata": {},
   "outputs": [],
   "source": [
    "def slope(x_array, y_array):\n",
    "    r = correlation(x_array, y_array)\n",
    "    return r*np.std(y_array)/np.std(x_array)\n",
    "\n",
    "\n",
    "def intercept(x_array, y_array):\n",
    "    return np.mean(y_array) - slope(x_array, y_array)*np.mean(x_array)"
   ]
  },
  {
   "cell_type": "code",
   "execution_count": null,
   "metadata": {},
   "outputs": [],
   "source": [
    "grader.check(\"q2\")"
   ]
  },
  {
   "cell_type": "markdown",
   "metadata": {},
   "source": [
    "Finally we'll be putting all of this together in order to predict values given a certain x! Fill in the missing code for the `regression_line` function. This function may seem a little strange - there's a function within a function! But don't worry too much about how it's strucutred, as long as `a` and `b` are assigned correctly, the rest of the lab should flow smoothly.\n",
    "\n",
    "*Note*: You may have noticed that we used functions inside functions before, specifically in the bootstrapping and hypothesis testing labs. These are examples of [higher-order functions](https://en.wikipedia.org/wiki/Higher-order_function)!"
   ]
  },
  {
   "cell_type": "code",
   "execution_count": 5,
   "metadata": {},
   "outputs": [],
   "source": [
    "def regression_line(x_array, y_array):\n",
    "    a = slope(x_array, y_array)\n",
    "    b = intercept(x_array, y_array)\n",
    "    \n",
    "    def prediction_function(x_value):\n",
    "        return (a * x_value) + b\n",
    "    \n",
    "    return prediction_function"
   ]
  },
  {
   "cell_type": "code",
   "execution_count": null,
   "metadata": {},
   "outputs": [],
   "source": [
    "grader.check(\"q3\")"
   ]
  },
  {
   "cell_type": "markdown",
   "metadata": {},
   "source": [
    "Last but not least, we'll be setting up our regression-line so that we can start predicting points. Replace the `...` below with the columns present in the `sat` table that interest you. After doing this, run the cell below to set up our prediction function."
   ]
  },
  {
   "cell_type": "code",
   "execution_count": 6,
   "metadata": {},
   "outputs": [],
   "source": [
    "x_array = sat.column(\"Critical Reading\")\n",
    "y_array = sat.column(\"Writing\")\n",
    "\n",
    "predict = regression_line(x_array, y_array)"
   ]
  },
  {
   "cell_type": "markdown",
   "metadata": {},
   "source": [
    "Now start predicting! Feel free to change around the columns above as well as the prediction below."
   ]
  },
  {
   "cell_type": "code",
   "execution_count": 7,
   "metadata": {},
   "outputs": [
    {
     "output_type": "execute_result",
     "data": {
      "text/plain": [
       "693.5580515908565"
      ]
     },
     "metadata": {},
     "execution_count": 7
    }
   ],
   "source": [
    "predict(720)"
   ]
  },
  {
   "cell_type": "markdown",
   "metadata": {},
   "source": [
    "Now that we have set up a prediction function, are there any limits to this function? For example, what if we input a score out of range? Does this data actually mean anything? What if the output is out of range, what would we do then? Linear regression is an amazing and powerful tool but like everything else in life it isn't perfect. Nonetheless, it's a basis of data science and rightfully so. Congratulations on finishing! Run the next cell to make sure that you passed all of the test cases."
   ]
  },
  {
   "cell_type": "code",
   "execution_count": null,
   "metadata": {},
   "outputs": [],
   "source": [
    "grader.check_all()"
   ]
  }
 ],
 "metadata": {
  "kernelspec": {
   "display_name": "Python 3",
   "language": "python",
   "name": "python3"
  },
  "language_info": {
   "codemirror_mode": {
    "name": "ipython",
    "version": 3
   },
   "file_extension": ".py",
   "mimetype": "text/x-python",
   "name": "python",
   "nbconvert_exporter": "python",
   "pygments_lexer": "ipython3",
   "version": "3.8.5-final"
  }
 },
 "nbformat": 4,
 "nbformat_minor": 2
}