{
 "cells": [
  {
   "cell_type": "markdown",
   "metadata": {},
   "source": [
    "# Predict Classes with a kNN Classifier\n",
    "## Mini-Lab: Repurposing the Classifier"
   ]
  },
  {
   "cell_type": "markdown",
   "metadata": {},
   "source": [
    "Welcome to your final mini-lab! Go ahead an run the following cell to get started. You can do that by clicking on the cell and then clickcing `Run` on the top bar. You can also just press `Shift` + `Enter` to run the cell."
   ]
  },
  {
   "cell_type": "code",
   "execution_count": 1,
   "metadata": {},
   "outputs": [],
   "source": [
    "from datascience import *\n",
    "import numpy as np\n",
    "import otter\n",
    "\n",
    "import matplotlib\n",
    "%matplotlib inline\n",
    "import matplotlib.pyplot as plots\n",
    "plots.style.use('fivethirtyeight')"
   ]
  },
  {
   "cell_type": "markdown",
   "metadata": {},
   "source": [
    "For our final lab, we'll take things into our own hands and build a classifier using the k-Nearest Neighbors algorithm by repurposing the classfier we wrote in the interactive content. The kNN code from the interactive content has already been copied for you so go ahead and run the next cell to import all of the relevant code."
   ]
  },
  {
   "cell_type": "code",
   "execution_count": 2,
   "metadata": {},
   "outputs": [],
   "source": [
    "def distance(point1, point2):\n",
    "    \"\"\"Returns the distance between point1 and point2\n",
    "    where each argument is an array\n",
    "    consisting of the coordinates of the point\"\"\"\n",
    "    return np.sqrt(np.sum((point1 - point2)**2))\n",
    "\n",
    "def all_distances(training, new_point):\n",
    "    \"\"\"Returns an array of distances\n",
    "    between each point in the training set\n",
    "    and the new point (which is a row of attributes)\"\"\"\n",
    "    attributes = training.drop('Class')\n",
    "    def distance_from_point(row):\n",
    "        return distance(np.array(new_point), np.array(row))\n",
    "    return attributes.apply(distance_from_point)\n",
    "\n",
    "def table_with_distances(training, new_point):\n",
    "    \"\"\"Augments the training table\n",
    "    with a column of distances from new_point\"\"\"\n",
    "    return training.with_column('Distance', all_distances(training, new_point))\n",
    "\n",
    "def closest(training, new_point, k):\n",
    "    \"\"\"Returns a table of the k rows of the augmented table\n",
    "    corresponding to the k smallest distances\"\"\"\n",
    "    with_dists = table_with_distances(training, new_point)\n",
    "    sorted_by_distance = with_dists.sort('Distance')\n",
    "    topk = sorted_by_distance.take(np.arange(k))\n",
    "    return topk\n",
    "\n",
    "def majority(topkclasses):\n",
    "    ones = topkclasses.where('Class', are.equal_to(1)).num_rows\n",
    "    zeros = topkclasses.where('Class', are.equal_to(0)).num_rows\n",
    "    if ones > zeros:\n",
    "        return 1\n",
    "    else:\n",
    "        return 0\n",
    "\n",
    "def classify(training, new_point, k):\n",
    "    closestk = closest(training, new_point, k)\n",
    "    topkclasses = closestk.select('Class')\n",
    "    return majority(topkclasses)"
   ]
  },
  {
   "cell_type": "markdown",
   "metadata": {},
   "source": [
    "This code was specfically built for the wine dataset which we'll import and test below. The classifier should output `1`."
   ]
  },
  {
   "cell_type": "code",
   "execution_count": 3,
   "metadata": {},
   "outputs": [
    {
     "output_type": "display_data",
     "data": {
      "text/plain": "<IPython.core.display.HTML object>",
      "text/html": "<table border=\"1\" class=\"dataframe\">\n    <thead>\n        <tr>\n            <th>Class</th> <th>Alcohol</th> <th>Malic Acid</th> <th>Ash</th> <th>Alcalinity of Ash</th> <th>Magnesium</th> <th>Total Phenols</th> <th>Flavanoids</th> <th>Nonflavanoid phenols</th> <th>Proanthocyanins</th> <th>Color Intensity</th> <th>Hue</th> <th>OD280/OD315 of diulted wines</th> <th>Proline</th>\n        </tr>\n    </thead>\n    <tbody>\n        <tr>\n            <td>1    </td> <td>14.23  </td> <td>1.71      </td> <td>2.43</td> <td>15.6             </td> <td>127      </td> <td>2.8          </td> <td>3.06      </td> <td>0.28                </td> <td>2.29           </td> <td>5.64           </td> <td>1.04</td> <td>3.92                        </td> <td>1065   </td>\n        </tr>\n        <tr>\n            <td>1    </td> <td>13.2   </td> <td>1.78      </td> <td>2.14</td> <td>11.2             </td> <td>100      </td> <td>2.65         </td> <td>2.76      </td> <td>0.26                </td> <td>1.28           </td> <td>4.38           </td> <td>1.05</td> <td>3.4                         </td> <td>1050   </td>\n        </tr>\n        <tr>\n            <td>1    </td> <td>13.16  </td> <td>2.36      </td> <td>2.67</td> <td>18.6             </td> <td>101      </td> <td>2.8          </td> <td>3.24      </td> <td>0.3                 </td> <td>2.81           </td> <td>5.68           </td> <td>1.03</td> <td>3.17                        </td> <td>1185   </td>\n        </tr>\n        <tr>\n            <td>1    </td> <td>14.37  </td> <td>1.95      </td> <td>2.5 </td> <td>16.8             </td> <td>113      </td> <td>3.85         </td> <td>3.49      </td> <td>0.24                </td> <td>2.18           </td> <td>7.8            </td> <td>0.86</td> <td>3.45                        </td> <td>1480   </td>\n        </tr>\n        <tr>\n            <td>1    </td> <td>13.24  </td> <td>2.59      </td> <td>2.87</td> <td>21               </td> <td>118      </td> <td>2.8          </td> <td>2.69      </td> <td>0.39                </td> <td>1.82           </td> <td>4.32           </td> <td>1.04</td> <td>2.93                        </td> <td>735    </td>\n        </tr>\n    </tbody>\n</table>\n<p>... (173 rows omitted)</p>"
     },
     "metadata": {}
    },
    {
     "output_type": "execute_result",
     "data": {
      "text/plain": [
       "1"
      ]
     },
     "metadata": {},
     "execution_count": 3
    }
   ],
   "source": [
    "wine = Table().read_table(\"../datasets/wine.csv\")\n",
    "wine.show(5)\n",
    "classify(wine, wine.drop(\"Class\").rows[0], 5)"
   ]
  },
  {
   "cell_type": "markdown",
   "metadata": {},
   "source": [
    "Cool right? Sadly, if we try to use this classifier for a different purpose it wouldn't work out. Below we have imported the data for 500 NBA atheletes in 2013. Our final task then will be to repurpose this classifier to not only classify NBA athletes for `Position` based on `Height`, `Weight`, and `Age`, but also to classify between three separate positions rather than the standard binary classification. Go ahead and run the next cell to import our NBA dataset."
   ]
  },
  {
   "cell_type": "code",
   "execution_count": 4,
   "metadata": {},
   "outputs": [
    {
     "output_type": "display_data",
     "data": {
      "text/plain": "<IPython.core.display.HTML object>",
      "text/html": "<table border=\"1\" class=\"dataframe\">\n    <thead>\n        <tr>\n            <th>Position</th> <th>Height</th> <th>Weight</th> <th>Age in 2013</th>\n        </tr>\n    </thead>\n    <tbody>\n        <tr>\n            <td>Guard   </td> <td>80    </td> <td>221   </td> <td>23         </td>\n        </tr>\n        <tr>\n            <td>Guard   </td> <td>80    </td> <td>235   </td> <td>23         </td>\n        </tr>\n        <tr>\n            <td>Guard   </td> <td>80    </td> <td>210   </td> <td>28         </td>\n        </tr>\n        <tr>\n            <td>Guard   </td> <td>80    </td> <td>215   </td> <td>32         </td>\n        </tr>\n        <tr>\n            <td>Guard   </td> <td>79    </td> <td>215   </td> <td>26         </td>\n        </tr>\n    </tbody>\n</table>\n<p>... (500 rows omitted)</p>"
     },
     "metadata": {}
    }
   ],
   "source": [
    "nba = Table().read_table(\"../datasets/nba2013.csv\").drop(\"Name\")\n",
    "nba.show(5)"
   ]
  },
  {
   "cell_type": "markdown",
   "metadata": {},
   "source": [
    "If we try running the `classify` function again we'll run into issues. To get around this, we'll have to modify our current code in order to classify based on our NBA dataset rather than the wine dataset. Below are the three functions that you will need to modify. Change these functions so that that we can classify a different dataset!\n",
    "\n",
    "*Note*: Two of these functions only need minor changes whereas the remaining function needs a major rehaul in order to function correctly. Can you identify which are which? Also, you may find the following code snippet useful:\n",
    "\n",
    "```\n",
    "positions = make_array(\"Guard\", \"Center\", \"Forward\")\n",
    "positions[np.argmax(make_array(x, y, z))]\n",
    "```\n",
    "\n",
    "If the variables `x`, `y`, and `z` correspond to the number of `Guard`, `Center`, and `Forward` athletes, then the code snippet return which position has a majority. For example, if `x` = 2, `y` = 6, and `z` = 4, then this code snippet would return `Center`. Where would this be useful?"
   ]
  },
  {
   "cell_type": "code",
   "execution_count": 5,
   "metadata": {},
   "outputs": [],
   "source": [
    "def all_distances(training, new_point):\n",
    "    \"\"\"Returns an array of distances\n",
    "    between each point in the training set\n",
    "    and the new point (which is a row of attributes)\"\"\"\n",
    "    attributes = training.drop('Position')\n",
    "    def distance_from_point(row):\n",
    "        return distance(np.array(new_point), np.array(row))\n",
    "    return attributes.apply(distance_from_point)\n",
    "\n",
    "\n",
    "def majority(topkclasses):\n",
    "    positions = make_array(\"Guard\", \"Center\", \"Forward\")\n",
    "    x = topkclasses.where('Position', are.equal_to(\"Guard\")).num_rows\n",
    "    y = topkclasses.where('Position', are.equal_to(\"Center\")).num_rows\n",
    "    z = topkclasses.where('Position', are.equal_to(\"Forward\")).num_rows\n",
    "    return positions[np.argmax(make_array(x, y, z))]\n",
    "\n",
    "\n",
    "def classify(training, new_point, k):\n",
    "    closestk = closest(training, new_point, k)\n",
    "    topkclasses = closestk.select('Position')\n",
    "    return majority(topkclasses)"
   ]
  },
  {
   "cell_type": "code",
   "execution_count": 6,
   "metadata": {},
   "outputs": [
    {
     "output_type": "execute_result",
     "data": {
      "text/plain": [
       "'Guard'"
      ]
     },
     "metadata": {},
     "execution_count": 6
    }
   ],
   "source": [
    "# This cell should output \"Guard\" if you implemented the above fixes correctly.\n",
    "classify(nba, nba.drop(\"Position\").rows[16], 15)"
   ]
  },
  {
   "cell_type": "markdown",
   "metadata": {},
   "source": [
    "Congratulations! Not only have you repurposed a classidier and finished the final lab, you've also completed this course!"
   ]
  }
 ],
 "metadata": {
  "kernelspec": {
   "display_name": "Python 3",
   "language": "python",
   "name": "python3"
  },
  "language_info": {
   "codemirror_mode": {
    "name": "ipython",
    "version": 3
   },
   "file_extension": ".py",
   "mimetype": "text/x-python",
   "name": "python",
   "nbconvert_exporter": "python",
   "pygments_lexer": "ipython3",
   "version": "3.8.5-final"
  }
 },
 "nbformat": 4,
 "nbformat_minor": 2
}